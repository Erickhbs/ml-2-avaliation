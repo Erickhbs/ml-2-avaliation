{
  "nbformat": 4,
  "nbformat_minor": 0,
  "metadata": {
    "colab": {
      "provenance": []
    },
    "kernelspec": {
      "name": "python3",
      "display_name": "Python 3"
    },
    "language_info": {
      "name": "python"
    }
  },
  "cells": [
    {
      "cell_type": "markdown",
      "source": [
        "1. Com base no dataset de empre stimos (loan.csv) disponí vel em:\n",
        "https://github.com/josenalde/machinelearning/blob/main/src/dataset/loan.csv,\n",
        "desenvolver modelo de aprendizagem de ma quina para classificaça o bina ria de\n",
        "liberaça o de empre stimo. Sugere-se as etapas seguintes, mas na o restritas a estas:"
      ],
      "metadata": {
        "id": "Ijsb3vSeoQfT"
      }
    },
    {
      "cell_type": "code",
      "source": [
        "#imports\n",
        "import numpy as np\n",
        "import pandas as pd\n",
        "import seaborn as sns\n",
        "from joblib import dump\n",
        "from sklearn.svm import SVC\n",
        "import matplotlib.pyplot as plt\n",
        "from sklearn.utils import resample\n",
        "from sklearn.pipeline import Pipeline\n",
        "from sklearn.decomposition import PCA\n",
        "from sklearn.impute import SimpleImputer\n",
        "from sklearn.datasets import fetch_openml\n",
        "from scipy.ndimage.interpolation import shift\n",
        "from sklearn.neighbors import KNeighborsClassifier\n",
        "from sklearn.preprocessing import LabelEncoder, StandardScaler\n",
        "from sklearn.linear_model import LogisticRegression, SGDClassifier\n",
        "from sklearn.ensemble import RandomForestClassifier, GradientBoostingClassifier\n",
        "from sklearn.model_selection import train_test_split, GridSearchCV, cross_val_score, cross_val_predict\n",
        "from sklearn.metrics import classification_report, roc_auc_score, roc_curve, confusion_matrix, ConfusionMatrixDisplay"
      ],
      "metadata": {
        "id": "UoHBsTk6A-HW"
      },
      "execution_count": null,
      "outputs": []
    },
    {
      "cell_type": "code",
      "execution_count": null,
      "metadata": {
        "id": "eu6ShaG1A1BI"
      },
      "outputs": [],
      "source": [
        "# A)\n",
        "\n",
        "# Pegar o arquivo csv direto do github\n",
        "df = pd.read_csv(\"https://raw.githubusercontent.com/josenalde/machinelearning/refs/heads/main/src/dataset/loan.csv\")\n",
        "\n",
        "# Realizar downsampling da quantidade maior\n",
        "df_majority = df[df[\"Loan_Status\"] == 'Y']\n",
        "df_minority = df[df[\"Loan_Status\"] == 'N']\n",
        "\n",
        "#422 - sim e 192 - não\n",
        "\n",
        "#usando o resample\n",
        "df_majority_downsampled = resample(\n",
        "    df_majority,\n",
        "    replace = False,\n",
        "    n_samples = len(df_minority),\n",
        "    random_state = 42\n",
        ")\n",
        "\n",
        "df_balanced = pd.concat([df_majority_downsampled, df_minority])\n",
        "\n",
        "df_balanced = df_balanced.sample(frac=1, random_state=42).reset_index(drop=True)\n",
        "# Verificar o balanceamento\n",
        "df_balanced[\"Loan_Status\"].value_counts() #192 - sim e 192 - não\n",
        "\n",
        "# # Aplicando o downsampling\n",
        "# classe_y_downsampled = classe_y.sample(n=len(classe_n), random_state=42)\n",
        "\n",
        "# # Concatenando as classes\n",
        "# df_balanceado = pd.concat([classe_y_downsampled, classe_n])\n",
        "\n",
        "# # Embaralhando o DataFrame\n",
        "# df_balanceado = df_balanceado.sample(frac=1, random_state=42).reset_index(drop=True)\n",
        "\n",
        "# df_balanceado['Loan_Status'].value_counts()"
      ]
    },
    {
      "cell_type": "code",
      "source": [
        "# B)\n",
        "\n",
        "# Criando um dataset onde serão feitas as modificações\n",
        "df_modified = df_balanced.drop(columns=[\"Loan_ID\", \"CoapplicantIncome\", \"Loan_Amount_Term\", \"Credit_History\", \"Property_Area\"])\n",
        "\n",
        "# Mostrando as colunas do novo dataset\n",
        "df_modified.head()"
      ],
      "metadata": {
        "id": "Kh9IVltBB_VC"
      },
      "execution_count": null,
      "outputs": []
    },
    {
      "cell_type": "code",
      "source": [
        "# C)\n",
        "\n",
        "# verificar e Preencher dados faltantes por coluna\n",
        "cols_to_fill = ['Dependents', 'Self_Employed', 'Married', 'Gender', 'LoanAmount']\n",
        "for col in cols_to_fill:\n",
        "    df_modified[col] = df_modified[col].fillna(df_modified[col].mode()[0])\n",
        "\n",
        "#mostrando as colunas do novo dataset\n",
        "df_modified.head()"
      ],
      "metadata": {
        "id": "Ncckb2dECaYg"
      },
      "execution_count": null,
      "outputs": []
    },
    {
      "cell_type": "code",
      "source": [
        "# D)\n",
        "\n",
        "#mostrando a soma dos valores faltantes por coluna\n",
        "df_modified.isnull().sum()"
      ],
      "metadata": {
        "id": "YGBVOmEvCmGk"
      },
      "execution_count": null,
      "outputs": []
    },
    {
      "cell_type": "code",
      "source": [
        "# E)\n",
        "\n",
        "#atribuindo o LabelEncoder\n",
        "encoder = LabelEncoder()\n",
        "\n",
        "# Usando o encoder nas colunas\n",
        "cols_to_encode = ['Gender', 'Married', 'Education', 'Self_Employed', 'Loan_Status']\n",
        "for col in cols_to_encode:\n",
        "    df_modified[col] = encoder.fit_transform(df_modified[col])\n",
        "\n",
        "#mostrando as colunas\n",
        "df_modified.head()"
      ],
      "metadata": {
        "id": "MF7crZN5CqR1"
      },
      "execution_count": null,
      "outputs": []
    },
    {
      "cell_type": "code",
      "source": [
        "# F)\n",
        "\n",
        "#modificando o valor de '3+' para '3'\n",
        "df_modified['Dependents'] = df_modified['Dependents'].replace('3+', 3).astype(int)\n",
        "\n",
        "#vendo se foram modificados\n",
        "df_modified"
      ],
      "metadata": {
        "id": "KhKKbCG4DJtQ"
      },
      "execution_count": null,
      "outputs": []
    },
    {
      "cell_type": "code",
      "source": [
        "from pickle import FALSE\n",
        "# G)\n",
        "\n",
        "#atribuindo o scaler\n",
        "scaler = StandardScaler(with_std=True, with_mean=False)\n",
        "\n",
        "numerical_columns = ['Dependents', 'ApplicantIncome', 'LoanAmount']\n",
        "\n",
        "df_modified[numerical_columns] = scaler.fit_transform(df_modified[numerical_columns])\n",
        "\n",
        "# Salvar o scaler utilizado no treinamento\n",
        "dump(scaler, \"scaler.pkl\")\n",
        "print(\"Scaler salvo como 'scaler.pkl'\")\n",
        "\n",
        "df_modified.head()"
      ],
      "metadata": {
        "id": "Mqph0VlaD7NI"
      },
      "execution_count": null,
      "outputs": []
    },
    {
      "cell_type": "code",
      "source": [
        "X = df_modified.drop('Loan_Status', axis=1)\n",
        "y = df_modified['Loan_Status']\n",
        "\n",
        "def model_val(model, X, y):\n",
        "    X_train, X_test, y_train, y_test = train_test_split(X, y, test_size=0.3, random_state=42)\n",
        "    model.fit(X_train, y_train)\n",
        "    y_predict = model.predict(X_test)\n",
        "    print(f\"{model}  AUC = {roc_auc_score(y_test, y_predict)}\")\n",
        "    score = cross_val_score(model, X, y, cv=5, scoring='roc_auc')\n"
      ],
      "metadata": {
        "id": "KCLPwjkVNXaL"
      },
      "execution_count": null,
      "outputs": []
    },
    {
      "cell_type": "code",
      "source": [
        "pipelines = {\n",
        "    'Logistic Regression': Pipeline([\n",
        "        ('imputer', SimpleImputer(strategy='most_frequent')),\n",
        "        ('scaler', StandardScaler()),\n",
        "        ('pca', PCA(n_components=2)),\n",
        "        ('classifier', LogisticRegression())\n",
        "    ]),\n",
        "    'Random Forest': Pipeline([\n",
        "        ('imputer', SimpleImputer(strategy='most_frequent')),\n",
        "        ('scaler', StandardScaler()),\n",
        "        ('pca', PCA(n_components=2)),\n",
        "        ('classifier', RandomForestClassifier())\n",
        "    ]),\n",
        "    'Gradient Boosting': Pipeline([\n",
        "        ('imputer', SimpleImputer(strategy='most_frequent')),\n",
        "        ('scaler', StandardScaler()),\n",
        "        ('pca', PCA(n_components=2)),\n",
        "        ('classifier', GradientBoostingClassifier())\n",
        "    ]),\n",
        "    'SVM': Pipeline([\n",
        "        ('imputer', SimpleImputer(strategy='most_frequent')),\n",
        "        ('scaler', StandardScaler()),\n",
        "        ('pca', PCA(n_components=2)),\n",
        "        ('classifier', SVC(probability=True))\n",
        "    ]),\n",
        "    'KNN': Pipeline([\n",
        "        ('imputer', SimpleImputer(strategy='most_frequent')),\n",
        "        ('scaler', StandardScaler()),\n",
        "        ('pca', PCA(n_components=2)),\n",
        "        ('classifier', KNeighborsClassifier())\n",
        "    ])\n",
        "}\n",
        "\n",
        "# Definição de grades de parâmetros para cada modelo\n",
        "param_grids = {\n",
        "    'Logistic Regression': {\n",
        "        'classifier__C': [0.1, 1, 10],\n",
        "        'classifier__penalty': ['l2']\n",
        "    },\n",
        "    'Random Forest': {\n",
        "        'classifier__n_estimators': [100, 200],\n",
        "        'classifier__max_depth': [5, 10, None]\n",
        "    },\n",
        "    'Gradient Boosting': {\n",
        "        'classifier__n_estimators': [100, 200],\n",
        "        'classifier__learning_rate': [0.05, 0.1, 0.2]\n",
        "    },\n",
        "    'SVM': {\n",
        "        'classifier__C': [0.1, 1, 10],\n",
        "        'classifier__kernel': ['linear', 'rbf']\n",
        "    },\n",
        "    'KNN': {\n",
        "        'classifier__n_neighbors': [3, 5, 7],\n",
        "        'classifier__weights': ['uniform', 'distance']\n",
        "    }\n",
        "}\n",
        "\n",
        "# armazenando os resultados das AUCs\n",
        "auc_scores = {}\n",
        "best_model_name = \"\"\n",
        "best_auc = 0\n",
        "best_pipeline = None\n",
        "# modelos e seleção do melhor com base na AUC\n",
        "plt.figure(figsize=(10, 8))\n",
        "for name, pipeline in pipelines.items():\n",
        "    print(f\"Treinando modelo: {name}\")\n",
        "    grid_search = GridSearchCV(pipeline, param_grids[name], cv=5, n_jobs=-1, scoring='roc_auc')\n",
        "    grid_search.fit(X, y)\n",
        "    best_model = grid_search.best_estimator_\n",
        "\n",
        "    # divisão do conjunto de teste e treino\n",
        "    X_train, X_test, y_train, y_test = train_test_split(X, y, test_size=0.3, random_state=42)\n",
        "    y_prob = best_model.predict_proba(X_test)[:, 1]\n",
        "\n",
        "    # calcular AUC\n",
        "    auc = roc_auc_score(y_test, y_prob)\n",
        "    auc_scores[name] = auc\n",
        "    print(f\"{name} - AUC: {auc}\\n\")\n",
        "\n",
        "    # pegar o melhor modelo\n",
        "    if auc > best_auc :\n",
        "        best_auc = auc\n",
        "        best_model_name = name\n",
        "        best_pipeline = best_model\n",
        "\n",
        "    # curva ROC\n",
        "    fpr, tpr, _ = roc_curve(y_test, y_prob)\n",
        "    plt.plot(fpr, tpr, label=f'{name} (AUC = {auc:.2f})')\n",
        "\n",
        "print(best_model.get_params())\n",
        "# curva ROC geral\n",
        "plt.plot([0, 1], [0, 1], linestyle='--', label='Random Guess')\n",
        "plt.xlabel('False Positive Rate')\n",
        "plt.ylabel('True Positive Rate')\n",
        "plt.title('Curvas ROC')\n",
        "plt.legend()\n",
        "plt.show()\n",
        "\n",
        "# Exibir os AUCs de todos os modelos\n",
        "print(\"\\nResultados das AUCs:\")\n",
        "for model, auc in auc_scores.items():\n",
        "    print(f\"{model}: AUC = {auc:.4f}\")\n"
      ],
      "metadata": {
        "id": "UfnwLxO3Eo9V"
      },
      "execution_count": null,
      "outputs": []
    },
    {
      "cell_type": "code",
      "source": [
        "# Salvar apenas o pipeline ajustado do melhor modelo\n",
        "if best_pipeline:\n",
        "    dump(best_pipeline, \"modelo_final.pkl\")\n",
        "    print(f\"Pipeline salvo como 'modelo_final.pkl'. Melhor modelo: {best_model_name} com AUC = {best_auc:.2f}\")"
      ],
      "metadata": {
        "colab": {
          "base_uri": "https://localhost:8080/"
        },
        "id": "HsxGEMt9fy12",
        "outputId": "7c42e1eb-b5fd-45f7-debc-8bea1313e248"
      },
      "execution_count": null,
      "outputs": [
        {
          "output_type": "stream",
          "name": "stdout",
          "text": [
            "Pipeline salvo como 'modelo_final.pkl'. Melhor modelo: Random Forest com AUC = 1.00\n"
          ]
        }
      ]
    },
    {
      "cell_type": "markdown",
      "source": [
        "2. Com base no dataset de imo veis na califo rnia (housing.csv) disponí vel em:\n",
        "https://github.com/josenalde/machinelearning/blob/main/src/dataset/housing.c\n",
        " sv, desenvolver modelo de aprendizagem de ma quina para regressa o de valor de\n",
        "imo vel (‘median_house_value’). Sugere-se as etapas seguintes, mas na o restritas a\n",
        "estas:"
      ],
      "metadata": {
        "id": "HT6psPdkoTK4"
      }
    },
    {
      "cell_type": "code",
      "source": [],
      "metadata": {
        "id": "VNxd0O5ae1BV"
      },
      "execution_count": null,
      "outputs": []
    },
    {
      "cell_type": "markdown",
      "source": [
        "3. Com base no notebook estudado mnist_sgd disponível em: https://github.com/josenalde/machinelearning/blob/main/src/mnist_sgd.ipynb, escreva uma funça o que possa mover\n",
        "uma imagem do MNIST em qualquer direça o (left, right, up, down) em X pixels. Pode\n",
        "começar testando X=1 e as adicione ao conjunto de treinamento. Faça a classificaça o\n",
        "multiclasse com o SGD e veja se os resultados melhoraram em termos de confusa o\n",
        "com os nu meros. Para esta funça o, considere usar o me todo shift() do mo dulo\n",
        "scipy.ndimage.interpolation. Por exemplo shift(image, [2,1], cval=0) desloca a\n",
        "imagem dois pixels para baixo e um pixel a  direita."
      ],
      "metadata": {
        "id": "gUhSSn3oolJ5"
      }
    },
    {
      "cell_type": "code",
      "source": [
        "# -------------- Carregando e Visualizando os Dados -------------- #\n",
        "\n",
        "mnist = fetch_openml('mnist_784', version=1, parser='auto')\n",
        "\n",
        "# Verificando as chaves do dataset\n",
        "print(mnist.keys())\n",
        "\n",
        "X, y = mnist.data, mnist.target\n",
        "print(X.shape)\n",
        "print(y.shape)\n",
        "print(y.value_counts())"
      ],
      "metadata": {
        "colab": {
          "base_uri": "https://localhost:8080/"
        },
        "id": "_4Qh-pBDoh9X",
        "outputId": "f8093b08-1fa6-4a26-8900-e981998a5499"
      },
      "execution_count": null,
      "outputs": [
        {
          "output_type": "stream",
          "name": "stdout",
          "text": [
            "dict_keys(['data', 'target', 'frame', 'categories', 'feature_names', 'target_names', 'DESCR', 'details', 'url'])\n",
            "(70000, 784)\n",
            "(70000,)\n",
            "class\n",
            "1    7877\n",
            "7    7293\n",
            "3    7141\n",
            "2    6990\n",
            "9    6958\n",
            "0    6903\n",
            "6    6876\n",
            "8    6825\n",
            "4    6824\n",
            "5    6313\n",
            "Name: count, dtype: int64\n"
          ]
        }
      ]
    },
    {
      "cell_type": "code",
      "source": [
        "# -------------- Visualizando uma amostra de imagem -------------- #\n",
        "\n",
        "some_digit = X.loc[0,:]  # A amostra de índice 0\n",
        "some_digit_np = some_digit.to_numpy()\n",
        "some_digit_image = some_digit_np.reshape(28,28)\n",
        "\n",
        "plt.imshow(some_digit_image, cmap='binary')\n",
        "plt.axis('off')\n",
        "plt.show()"
      ],
      "metadata": {
        "colab": {
          "base_uri": "https://localhost:8080/",
          "height": 406
        },
        "id": "hTaEHu9ORKhJ",
        "outputId": "dd444a77-1296-4b3e-d6ce-2bd7e784bea0"
      },
      "execution_count": null,
      "outputs": [
        {
          "output_type": "display_data",
          "data": {
            "text/plain": [
              "<Figure size 640x480 with 1 Axes>"
            ],
            "image/png": "[encoded data removed]"
          },
          "metadata": {}
        }
      ]
    },
    {
      "cell_type": "code",
      "source": [
        "# -------------- Preprocessando os Dados -------------- #\n",
        "\n",
        "# Convertendo os labels para inteiros\n",
        "y = y.astype(np.uint8)"
      ],
      "metadata": {
        "id": "j-VteD2tRTJa"
      },
      "execution_count": null,
      "outputs": []
    },
    {
      "cell_type": "code",
      "source": [
        "# -------------- Dividindo em treino e teste -------------- #\n",
        "\n",
        "X_train, X_test, y_train, y_test = X[:60000], X[60000:], y[:60000], y[60000:]"
      ],
      "metadata": {
        "id": "Cbvo53cIRsSY"
      },
      "execution_count": null,
      "outputs": []
    },
    {
      "cell_type": "code",
      "source": [
        "# -------------- Função para Deslocar Imagens -------------- #\n",
        "\n",
        "def move_image(image, shift_x, shift_y):\n",
        "    \"\"\"\n",
        "    Usando a função shift Desloca a imagem para a direção especificada pelos parâmetros shift_x e shift_y.\n",
        "    \"\"\"\n",
        "    return shift(image.reshape(28, 28), [shift_y, shift_x], cval=0).reshape(784)"
      ],
      "metadata": {
        "id": "AwvHzSdGRyHN"
      },
      "execution_count": null,
      "outputs": []
    },
    {
      "cell_type": "code",
      "source": [
        "# -------------- Testando a função com deslocamento de 1 pixel -------------- #\n",
        "\n",
        "shifted_image = move_image(X_train.loc[0].to_numpy(), 2, 1) #testando com 5 e -2\n",
        "\n",
        "plt.imshow(shifted_image.reshape(28,28), cmap='binary')\n",
        "plt.axis('off')\n",
        "plt.show()"
      ],
      "metadata": {
        "colab": {
          "base_uri": "https://localhost:8080/",
          "height": 406
        },
        "id": "5G5LoD3LR41v",
        "outputId": "0622e00f-b95d-4d1e-e84c-136714b6d17b"
      },
      "execution_count": null,
      "outputs": [
        {
          "output_type": "display_data",
          "data": {
            "text/plain": [
              "<Figure size 640x480 with 1 Axes>"
            ],
            "image/png": "[encoded data removed]"
          },
          "metadata": {}
        }
      ]
    },
    {
      "cell_type": "code",
      "source": [
        "# -------------- Adicionando imagens deslocadas ao conjunto de treino -------------- #\n",
        "\n",
        "X_train_shifted = np.array([move_image(img, 2, 1) for img in X_train.to_numpy()])\n",
        "X_train = np.vstack([X_train.to_numpy(), X_train_shifted])\n",
        "y_train = np.concatenate([y_train, y_train])"
      ],
      "metadata": {
        "id": "Fx8Wxc7-R_KA"
      },
      "execution_count": null,
      "outputs": []
    },
    {
      "cell_type": "code",
      "source": [
        "# -------------- Treinando o Classificador com SGD -------------- #\n",
        "\n",
        "model_sgd = SGDClassifier(random_state=42)\n",
        "model_sgd.fit(X_train, y_train)"
      ],
      "metadata": {
        "colab": {
          "base_uri": "https://localhost:8080/",
          "height": 80
        },
        "id": "xagKxpxuSdS9",
        "outputId": "0c6fc92e-9c34-445f-dfdd-360dd803eb76"
      },
      "execution_count": null,
      "outputs": [
        {
          "output_type": "execute_result",
          "data": {
            "text/plain": [
              "SGDClassifier(random_state=42)"
            ],
            "text/html": [
              "<style>#sk-container-id-1 {\n",
              "  /* Definition of color scheme common for light and dark mode */\n",
              "  --sklearn-color-text: black;\n",
              "  --sklearn-color-line: gray;\n",
              "  /* Definition of color scheme for unfitted estimators */\n",
              "  --sklearn-color-unfitted-level-0: #fff5e6;\n",
              "  --sklearn-color-unfitted-level-1: #f6e4d2;\n",
              "  --sklearn-color-unfitted-level-2: #ffe0b3;\n",
              "  --sklearn-color-unfitted-level-3: chocolate;\n",
              "  /* Definition of color scheme for fitted estimators */\n",
              "  --sklearn-color-fitted-level-0: #f0f8ff;\n",
              "  --sklearn-color-fitted-level-1: #d4ebff;\n",
              "  --sklearn-color-fitted-level-2: #b3dbfd;\n",
              "  --sklearn-color-fitted-level-3: cornflowerblue;\n",
              "\n",
              "  /* Specific color for light theme */\n",
              "  --sklearn-color-text-on-default-background: var(--sg-text-color, var(--theme-code-foreground, var(--jp-content-font-color1, black)));\n",
              "  --sklearn-color-background: var(--sg-background-color, var(--theme-background, var(--jp-layout-color0, white)));\n",
              "  --sklearn-color-border-box: var(--sg-text-color, var(--theme-code-foreground, var(--jp-content-font-color1, black)));\n",
              "  --sklearn-color-icon: #696969;\n",
              "\n",
              "  @media (prefers-color-scheme: dark) {\n",
              "    /* Redefinition of color scheme for dark theme */\n",
              "    --sklearn-color-text-on-default-background: var(--sg-text-color, var(--theme-code-foreground, var(--jp-content-font-color1, white)));\n",
              "    --sklearn-color-background: var(--sg-background-color, var(--theme-background, var(--jp-layout-color0, #111)));\n",
              "    --sklearn-color-border-box: var(--sg-text-color, var(--theme-code-foreground, var(--jp-content-font-color1, white)));\n",
              "    --sklearn-color-icon: #878787;\n",
              "  }\n",
              "}\n",
              "\n",
              "#sk-container-id-1 {\n",
              "  color: var(--sklearn-color-text);\n",
              "}\n",
              "\n",
              "#sk-container-id-1 pre {\n",
              "  padding: 0;\n",
              "}\n",
              "\n",
              "#sk-container-id-1 input.sk-hidden--visually {\n",
              "  border: 0;\n",
              "  clip: rect(1px 1px 1px 1px);\n",
              "  clip: rect(1px, 1px, 1px, 1px);\n",
              "  height: 1px;\n",
              "  margin: -1px;\n",
              "  overflow: hidden;\n",
              "  padding: 0;\n",
              "  position: absolute;\n",
              "  width: 1px;\n",
              "}\n",
              "\n",
              "#sk-container-id-1 div.sk-dashed-wrapped {\n",
              "  border: 1px dashed var(--sklearn-color-line);\n",
              "  margin: 0 0.4em 0.5em 0.4em;\n",
              "  box-sizing: border-box;\n",
              "  padding-bottom: 0.4em;\n",
              "  background-color: var(--sklearn-color-background);\n",
              "}\n",
              "\n",
              "#sk-container-id-1 div.sk-container {\n",
              "  /* jupyter's `normalize.less` sets `[hidden] { display: none; }`\n",
              "     but bootstrap.min.css set `[hidden] { display: none !important; }`\n",
              "     so we also need the `!important` here to be able to override the\n",
              "     default hidden behavior on the sphinx rendered scikit-learn.org.\n",
              "     See: https://github.com/scikit-learn/scikit-learn/issues/21755 */\n",
              "  display: inline-block !important;\n",
              "  position: relative;\n",
              "}\n",
              "\n",
              "#sk-container-id-1 div.sk-text-repr-fallback {\n",
              "  display: none;\n",
              "}\n",
              "\n",
              "div.sk-parallel-item,\n",
              "div.sk-serial,\n",
              "div.sk-item {\n",
              "  /* draw centered vertical line to link estimators */\n",
              "  background-image: linear-gradient(var(--sklearn-color-text-on-default-background), var(--sklearn-color-text-on-default-background));\n",
              "  background-size: 2px 100%;\n",
              "  background-repeat: no-repeat;\n",
              "  background-position: center center;\n",
              "}\n",
              "\n",
              "/* Parallel-specific style estimator block */\n",
              "\n",
              "#sk-container-id-1 div.sk-parallel-item::after {\n",
              "  content: \"\";\n",
              "  width: 100%;\n",
              "  border-bottom: 2px solid var(--sklearn-color-text-on-default-background);\n",
              "  flex-grow: 1;\n",
              "}\n",
              "\n",
              "#sk-container-id-1 div.sk-parallel {\n",
              "  display: flex;\n",
              "  align-items: stretch;\n",
              "  justify-content: center;\n",
              "  background-color: var(--sklearn-color-background);\n",
              "  position: relative;\n",
              "}\n",
              "\n",
              "#sk-container-id-1 div.sk-parallel-item {\n",
              "  display: flex;\n",
              "  flex-direction: column;\n",
              "}\n",
              "\n",
              "#sk-container-id-1 div.sk-parallel-item:first-child::after {\n",
              "  align-self: flex-end;\n",
              "  width: 50%;\n",
              "}\n",
              "\n",
              "#sk-container-id-1 div.sk-parallel-item:last-child::after {\n",
              "  align-self: flex-start;\n",
              "  width: 50%;\n",
              "}\n",
              "\n",
              "#sk-container-id-1 div.sk-parallel-item:only-child::after {\n",
              "  width: 0;\n",
              "}\n",
              "\n",
              "/* Serial-specific style estimator block */\n",
              "\n",
              "#sk-container-id-1 div.sk-serial {\n",
              "  display: flex;\n",
              "  flex-direction: column;\n",
              "  align-items: center;\n",
              "  background-color: var(--sklearn-color-background);\n",
              "  padding-right: 1em;\n",
              "  padding-left: 1em;\n",
              "}\n",
              "\n",
              "\n",
              "/* Toggleable style: style used for estimator/Pipeline/ColumnTransformer box that is\n",
              "clickable and can be expanded/collapsed.\n",
              "- Pipeline and ColumnTransformer use this feature and define the default style\n",
              "- Estimators will overwrite some part of the style using the `sk-estimator` class\n",
              "*/\n",
              "\n",
              "/* Pipeline and ColumnTransformer style (default) */\n",
              "\n",
              "#sk-container-id-1 div.sk-toggleable {\n",
              "  /* Default theme specific background. It is overwritten whether we have a\n",
              "  specific estimator or a Pipeline/ColumnTransformer */\n",
              "  background-color: var(--sklearn-color-background);\n",
              "}\n",
              "\n",
              "/* Toggleable label */\n",
              "#sk-container-id-1 label.sk-toggleable__label {\n",
              "  cursor: pointer;\n",
              "  display: block;\n",
              "  width: 100%;\n",
              "  margin-bottom: 0;\n",
              "  padding: 0.5em;\n",
              "  box-sizing: border-box;\n",
              "  text-align: center;\n",
              "}\n",
              "\n",
              "#sk-container-id-1 label.sk-toggleable__label-arrow:before {\n",
              "  /* Arrow on the left of the label */\n",
              "  content: \"▸\";\n",
              "  float: left;\n",
              "  margin-right: 0.25em;\n",
              "  color: var(--sklearn-color-icon);\n",
              "}\n",
              "\n",
              "#sk-container-id-1 label.sk-toggleable__label-arrow:hover:before {\n",
              "  color: var(--sklearn-color-text);\n",
              "}\n",
              "\n",
              "/* Toggleable content - dropdown */\n",
              "\n",
              "#sk-container-id-1 div.sk-toggleable__content {\n",
              "  max-height: 0;\n",
              "  max-width: 0;\n",
              "  overflow: hidden;\n",
              "  text-align: left;\n",
              "  /* unfitted */\n",
              "  background-color: var(--sklearn-color-unfitted-level-0);\n",
              "}\n",
              "\n",
              "#sk-container-id-1 div.sk-toggleable__content.fitted {\n",
              "  /* fitted */\n",
              "  background-color: var(--sklearn-color-fitted-level-0);\n",
              "}\n",
              "\n",
              "#sk-container-id-1 div.sk-toggleable__content pre {\n",
              "  margin: 0.2em;\n",
              "  border-radius: 0.25em;\n",
              "  color: var(--sklearn-color-text);\n",
              "  /* unfitted */\n",
              "  background-color: var(--sklearn-color-unfitted-level-0);\n",
              "}\n",
              "\n",
              "#sk-container-id-1 div.sk-toggleable__content.fitted pre {\n",
              "  /* unfitted */\n",
              "  background-color: var(--sklearn-color-fitted-level-0);\n",
              "}\n",
              "\n",
              "#sk-container-id-1 input.sk-toggleable__control:checked~div.sk-toggleable__content {\n",
              "  /* Expand drop-down */\n",
              "  max-height: 200px;\n",
              "  max-width: 100%;\n",
              "  overflow: auto;\n",
              "}\n",
              "\n",
              "#sk-container-id-1 input.sk-toggleable__control:checked~label.sk-toggleable__label-arrow:before {\n",
              "  content: \"▾\";\n",
              "}\n",
              "\n",
              "/* Pipeline/ColumnTransformer-specific style */\n",
              "\n",
              "#sk-container-id-1 div.sk-label input.sk-toggleable__control:checked~label.sk-toggleable__label {\n",
              "  color: var(--sklearn-color-text);\n",
              "  background-color: var(--sklearn-color-unfitted-level-2);\n",
              "}\n",
              "\n",
              "#sk-container-id-1 div.sk-label.fitted input.sk-toggleable__control:checked~label.sk-toggleable__label {\n",
              "  background-color: var(--sklearn-color-fitted-level-2);\n",
              "}\n",
              "\n",
              "/* Estimator-specific style */\n",
              "\n",
              "/* Colorize estimator box */\n",
              "#sk-container-id-1 div.sk-estimator input.sk-toggleable__control:checked~label.sk-toggleable__label {\n",
              "  /* unfitted */\n",
              "  background-color: var(--sklearn-color-unfitted-level-2);\n",
              "}\n",
              "\n",
              "#sk-container-id-1 div.sk-estimator.fitted input.sk-toggleable__control:checked~label.sk-toggleable__label {\n",
              "  /* fitted */\n",
              "  background-color: var(--sklearn-color-fitted-level-2);\n",
              "}\n",
              "\n",
              "#sk-container-id-1 div.sk-label label.sk-toggleable__label,\n",
              "#sk-container-id-1 div.sk-label label {\n",
              "  /* The background is the default theme color */\n",
              "  color: var(--sklearn-color-text-on-default-background);\n",
              "}\n",
              "\n",
              "/* On hover, darken the color of the background */\n",
              "#sk-container-id-1 div.sk-label:hover label.sk-toggleable__label {\n",
              "  color: var(--sklearn-color-text);\n",
              "  background-color: var(--sklearn-color-unfitted-level-2);\n",
              "}\n",
              "\n",
              "/* Label box, darken color on hover, fitted */\n",
              "#sk-container-id-1 div.sk-label.fitted:hover label.sk-toggleable__label.fitted {\n",
              "  color: var(--sklearn-color-text);\n",
              "  background-color: var(--sklearn-color-fitted-level-2);\n",
              "}\n",
              "\n",
              "/* Estimator label */\n",
              "\n",
              "#sk-container-id-1 div.sk-label label {\n",
              "  font-family: monospace;\n",
              "  font-weight: bold;\n",
              "  display: inline-block;\n",
              "  line-height: 1.2em;\n",
              "}\n",
              "\n",
              "#sk-container-id-1 div.sk-label-container {\n",
              "  text-align: center;\n",
              "}\n",
              "\n",
              "/* Estimator-specific */\n",
              "#sk-container-id-1 div.sk-estimator {\n",
              "  font-family: monospace;\n",
              "  border: 1px dotted var(--sklearn-color-border-box);\n",
              "  border-radius: 0.25em;\n",
              "  box-sizing: border-box;\n",
              "  margin-bottom: 0.5em;\n",
              "  /* unfitted */\n",
              "  background-color: var(--sklearn-color-unfitted-level-0);\n",
              "}\n",
              "\n",
              "#sk-container-id-1 div.sk-estimator.fitted {\n",
              "  /* fitted */\n",
              "  background-color: var(--sklearn-color-fitted-level-0);\n",
              "}\n",
              "\n",
              "/* on hover */\n",
              "#sk-container-id-1 div.sk-estimator:hover {\n",
              "  /* unfitted */\n",
              "  background-color: var(--sklearn-color-unfitted-level-2);\n",
              "}\n",
              "\n",
              "#sk-container-id-1 div.sk-estimator.fitted:hover {\n",
              "  /* fitted */\n",
              "  background-color: var(--sklearn-color-fitted-level-2);\n",
              "}\n",
              "\n",
              "/* Specification for estimator info (e.g. \"i\" and \"?\") */\n",
              "\n",
              "/* Common style for \"i\" and \"?\" */\n",
              "\n",
              ".sk-estimator-doc-link,\n",
              "a:link.sk-estimator-doc-link,\n",
              "a:visited.sk-estimator-doc-link {\n",
              "  float: right;\n",
              "  font-size: smaller;\n",
              "  line-height: 1em;\n",
              "  font-family: monospace;\n",
              "  background-color: var(--sklearn-color-background);\n",
              "  border-radius: 1em;\n",
              "  height: 1em;\n",
              "  width: 1em;\n",
              "  text-decoration: none !important;\n",
              "  margin-left: 1ex;\n",
              "  /* unfitted */\n",
              "  border: var(--sklearn-color-unfitted-level-1) 1pt solid;\n",
              "  color: var(--sklearn-color-unfitted-level-1);\n",
              "}\n",
              "\n",
              ".sk-estimator-doc-link.fitted,\n",
              "a:link.sk-estimator-doc-link.fitted,\n",
              "a:visited.sk-estimator-doc-link.fitted {\n",
              "  /* fitted */\n",
              "  border: var(--sklearn-color-fitted-level-1) 1pt solid;\n",
              "  color: var(--sklearn-color-fitted-level-1);\n",
              "}\n",
              "\n",
              "/* On hover */\n",
              "div.sk-estimator:hover .sk-estimator-doc-link:hover,\n",
              ".sk-estimator-doc-link:hover,\n",
              "div.sk-label-container:hover .sk-estimator-doc-link:hover,\n",
              ".sk-estimator-doc-link:hover {\n",
              "  /* unfitted */\n",
              "  background-color: var(--sklearn-color-unfitted-level-3);\n",
              "  color: var(--sklearn-color-background);\n",
              "  text-decoration: none;\n",
              "}\n",
              "\n",
              "div.sk-estimator.fitted:hover .sk-estimator-doc-link.fitted:hover,\n",
              ".sk-estimator-doc-link.fitted:hover,\n",
              "div.sk-label-container:hover .sk-estimator-doc-link.fitted:hover,\n",
              ".sk-estimator-doc-link.fitted:hover {\n",
              "  /* fitted */\n",
              "  background-color: var(--sklearn-color-fitted-level-3);\n",
              "  color: var(--sklearn-color-background);\n",
              "  text-decoration: none;\n",
              "}\n",
              "\n",
              "/* Span, style for the box shown on hovering the info icon */\n",
              ".sk-estimator-doc-link span {\n",
              "  display: none;\n",
              "  z-index: 9999;\n",
              "  position: relative;\n",
              "  font-weight: normal;\n",
              "  right: .2ex;\n",
              "  padding: .5ex;\n",
              "  margin: .5ex;\n",
              "  width: min-content;\n",
              "  min-width: 20ex;\n",
              "  max-width: 50ex;\n",
              "  color: var(--sklearn-color-text);\n",
              "  box-shadow: 2pt 2pt 4pt #999;\n",
              "  /* unfitted */\n",
              "  background: var(--sklearn-color-unfitted-level-0);\n",
              "  border: .5pt solid var(--sklearn-color-unfitted-level-3);\n",
              "}\n",
              "\n",
              ".sk-estimator-doc-link.fitted span {\n",
              "  /* fitted */\n",
              "  background: var(--sklearn-color-fitted-level-0);\n",
              "  border: var(--sklearn-color-fitted-level-3);\n",
              "}\n",
              "\n",
              ".sk-estimator-doc-link:hover span {\n",
              "  display: block;\n",
              "}\n",
              "\n",
              "/* \"?\"-specific style due to the `<a>` HTML tag */\n",
              "\n",
              "#sk-container-id-1 a.estimator_doc_link {\n",
              "  float: right;\n",
              "  font-size: 1rem;\n",
              "  line-height: 1em;\n",
              "  font-family: monospace;\n",
              "  background-color: var(--sklearn-color-background);\n",
              "  border-radius: 1rem;\n",
              "  height: 1rem;\n",
              "  width: 1rem;\n",
              "  text-decoration: none;\n",
              "  /* unfitted */\n",
              "  color: var(--sklearn-color-unfitted-level-1);\n",
              "  border: var(--sklearn-color-unfitted-level-1) 1pt solid;\n",
              "}\n",
              "\n",
              "#sk-container-id-1 a.estimator_doc_link.fitted {\n",
              "  /* fitted */\n",
              "  border: var(--sklearn-color-fitted-level-1) 1pt solid;\n",
              "  color: var(--sklearn-color-fitted-level-1);\n",
              "}\n",
              "\n",
              "/* On hover */\n",
              "#sk-container-id-1 a.estimator_doc_link:hover {\n",
              "  /* unfitted */\n",
              "  background-color: var(--sklearn-color-unfitted-level-3);\n",
              "  color: var(--sklearn-color-background);\n",
              "  text-decoration: none;\n",
              "}\n",
              "\n",
              "#sk-container-id-1 a.estimator_doc_link.fitted:hover {\n",
              "  /* fitted */\n",
              "  background-color: var(--sklearn-color-fitted-level-3);\n",
              "}\n",
              "</style><div id=\"sk-container-id-1\" class=\"sk-top-container\"><div class=\"sk-text-repr-fallback\"><pre>SGDClassifier(random_state=42)</pre><b>In a Jupyter environment, please rerun this cell to show the HTML representation or trust the notebook. <br />On GitHub, the HTML representation is unable to render, please try loading this page with nbviewer.org.</b></div><div class=\"sk-container\" hidden><div class=\"sk-item\"><div class=\"sk-estimator fitted sk-toggleable\"><input class=\"sk-toggleable__control sk-hidden--visually\" id=\"sk-estimator-id-1\" type=\"checkbox\" checked><label for=\"sk-estimator-id-1\" class=\"sk-toggleable__label fitted sk-toggleable__label-arrow fitted\">&nbsp;&nbsp;SGDClassifier<a class=\"sk-estimator-doc-link fitted\" rel=\"noreferrer\" target=\"_blank\" href=\"https://scikit-learn.org/1.5/modules/generated/sklearn.linear_model.SGDClassifier.html\">?<span>Documentation for SGDClassifier</span></a><span class=\"sk-estimator-doc-link fitted\">i<span>Fitted</span></span></label><div class=\"sk-toggleable__content fitted\"><pre>SGDClassifier(random_state=42)</pre></div> </div></div></div></div>"
            ]
          },
          "metadata": {},
          "execution_count": 26
        }
      ]
    },
    {
      "cell_type": "code",
      "source": [
        "# -------------- Avaliando o Classificador -------------- #\n",
        "\n",
        "# Fazendo o predict com o modelo sgd\n",
        "some_digit_pred = model_sgd.predict([some_digit])"
      ],
      "metadata": {
        "id": "H-SUsNBrSsMk"
      },
      "execution_count": null,
      "outputs": []
    },
    {
      "cell_type": "code",
      "source": [
        "# -------------- acurácia com validação cruzada -------------- #\n",
        "\n",
        "cross_val_score(model_sgd, X_train, y_train, cv=5, scoring='accuracy')"
      ],
      "metadata": {
        "colab": {
          "base_uri": "https://localhost:8080/"
        },
        "id": "s8qst4UsSzjZ",
        "outputId": "301e8946-d50d-4741-fffb-ac531e59a12e"
      },
      "execution_count": null,
      "outputs": [
        {
          "output_type": "execute_result",
          "data": {
            "text/plain": [
              "array([0.85004167, 0.78804167, 0.85045833, 0.869875  , 0.8675    ])"
            ]
          },
          "metadata": {},
          "execution_count": 28
        }
      ]
    },
    {
      "cell_type": "code",
      "source": [
        "# -------------- Realizando previsão com validação cruzada -------------- #\n",
        "\n",
        "y_train_pred = cross_val_predict(model_sgd, X_train, y_train, cv=5)"
      ],
      "metadata": {
        "id": "a6bwErDWS3w7"
      },
      "execution_count": null,
      "outputs": []
    },
    {
      "cell_type": "code",
      "source": [
        "# -------------- Exibindo a matriz de confusão -------------- #\n",
        "\n",
        "cm = confusion_matrix(y_true=y_train, y_pred=y_train_pred)\n",
        "disp = ConfusionMatrixDisplay(confusion_matrix=cm, display_labels=model_sgd.classes_)\n",
        "disp.plot()"
      ],
      "metadata": {
        "colab": {
          "base_uri": "https://localhost:8080/",
          "height": 472
        },
        "id": "bSYluNcuS_w8",
        "outputId": "84a02d12-79a5-4cf9-b8c4-7171a5991bce"
      },
      "execution_count": null,
      "outputs": [
        {
          "output_type": "execute_result",
          "data": {
            "text/plain": [
              "<sklearn.metrics._plot.confusion_matrix.ConfusionMatrixDisplay at 0x7e7b90ac51e0>"
            ]
          },
          "metadata": {},
          "execution_count": 31
        },
        {
          "output_type": "display_data",
          "data": {
            "text/plain": [
              "<Figure size 640x480 with 2 Axes>"
            ],
            "image/png": "[encoded data removed]"
          },
          "metadata": {}
        }
      ]
    },
    {
      "cell_type": "code",
      "source": [
        "# -------------- Relatório de classificação -------------- #\n",
        "\n",
        "print(classification_report(y_train, y_train_pred))"
      ],
      "metadata": {
        "colab": {
          "base_uri": "https://localhost:8080/"
        },
        "id": "Ded3Tia0TJge",
        "outputId": "898b105b-324e-45c8-e2da-1116605286a9"
      },
      "execution_count": null,
      "outputs": [
        {
          "output_type": "stream",
          "name": "stdout",
          "text": [
            "              precision    recall  f1-score   support\n",
            "\n",
            "           0       0.94      0.94      0.94     11846\n",
            "           1       0.93      0.89      0.91     13484\n",
            "           2       0.88      0.81      0.84     11916\n",
            "           3       0.80      0.82      0.81     12262\n",
            "           4       0.86      0.85      0.85     11684\n",
            "           5       0.80      0.77      0.78     10842\n",
            "           6       0.87      0.94      0.91     11836\n",
            "           7       0.93      0.84      0.88     12530\n",
            "           8       0.69      0.77      0.73     11702\n",
            "           9       0.77      0.81      0.79     11898\n",
            "\n",
            "    accuracy                           0.85    120000\n",
            "   macro avg       0.85      0.84      0.84    120000\n",
            "weighted avg       0.85      0.85      0.85    120000\n",
            "\n"
          ]
        }
      ]
    },
    {
      "cell_type": "code",
      "source": [
        "# -------------- Ajustando a Função de Threshold -------------- #\n",
        "\n",
        "# Cálculo da função de decisão e ajuste do threshold\n",
        "y_scores = model_sgd.decision_function([some_digit])\n",
        "thresh = 0\n",
        "y_some_digit_pred = (y_scores > thresh)\n",
        "print(y_some_digit_pred)"
      ],
      "metadata": {
        "colab": {
          "base_uri": "https://localhost:8080/"
        },
        "id": "VpVzIZyoTOfH",
        "outputId": "218b78ee-7ea3-4f7e-f8d9-eb0c27225bde"
      },
      "execution_count": null,
      "outputs": [
        {
          "output_type": "stream",
          "name": "stdout",
          "text": [
            "[[False False False  True False False False False False False]]\n"
          ]
        }
      ]
    },
    {
      "cell_type": "code",
      "source": [
        "# -------------- Aumentando o threshold -------------- #\n",
        "\n",
        "thresh = 3000\n",
        "y_some_digit_pred = (y_scores > thresh)\n",
        "print(y_some_digit_pred)"
      ],
      "metadata": {
        "colab": {
          "base_uri": "https://localhost:8080/"
        },
        "id": "_QyhGg6STUbY",
        "outputId": "592f5926-6ecb-4ba2-b155-b27b0b287822"
      },
      "execution_count": null,
      "outputs": [
        {
          "output_type": "stream",
          "name": "stdout",
          "text": [
            "[[False False False False False False False False False False]]\n"
          ]
        }
      ]
    },
    {
      "cell_type": "code",
      "source": [
        "# -------------- Curva Precision-Recall -------------- #\n",
        "from sklearn.metrics import precision_recall_curve\n",
        "\n",
        "y_scores = cross_val_predict(model_sgd, X_train, y_train, cv=5, method='decision_function')\n",
        "\n",
        "precisions, recalls, thresholds = precision_recall_curve(y_train, y_scores)\n",
        "\n",
        "def plot_precision_recall_vs_threshold(precisions, recalls, thresholds):\n",
        "    plt.plot(thresholds, precisions[:-1], 'b--', label='Precisão')\n",
        "    plt.plot(thresholds, recalls[:-1], 'r-', label='Sensibilidade')\n",
        "    plt.legend()\n",
        "\n",
        "plot_precision_recall_vs_threshold(precisions, recalls, thresholds)\n",
        "plt.show()"
      ],
      "metadata": {
        "id": "m3JnrnWKZc3L"
      },
      "execution_count": null,
      "outputs": []
    },
    {
      "cell_type": "code",
      "source": [
        "\n",
        "\n",
        "from sklearn.metrics import roc_curve\n",
        "\n",
        "tfp, tvp, thresholds = roc_curve(y_train, y_scores)\n",
        "\n",
        "def plot_roc_curve(tfp, tvp, label='roc'):\n",
        "    plt.plot(tfp, tvp, linewidth=2, label=label)\n",
        "    plt.plot([0, 1], [0, 1], 'k--')\n",
        "    plt.legend()\n",
        "    plt.grid()\n",
        "    plt.xlabel('Taxa de Falsos Positivos (1 - especificidade)')\n",
        "    plt.ylabel('Taxa de Verdadeiros Positivos (sensibilidade)')\n",
        "\n",
        "plot_roc_curve(tfp, tvp)\n",
        "plt.show()"
      ],
      "metadata": {
        "id": "QQUu3aYJZjqe"
      },
      "execution_count": null,
      "outputs": []
    },
    {
      "cell_type": "code",
      "source": [
        "# -------------- Avaliação com Random Forest -------------- #\n",
        "\n",
        "from sklearn.ensemble import RandomForestClassifier\n",
        "\n",
        "model_rf = RandomForestClassifier(random_state=42)\n",
        "y_probas_rf = cross_val_predict(model_rf, X_train, y_train, cv=5, method='predict_proba')"
      ],
      "metadata": {
        "id": "023x5O_5Zshm"
      },
      "execution_count": null,
      "outputs": []
    },
    {
      "cell_type": "code",
      "source": [
        "# -------------- Calculando ROC para Random Forest -------------- #\n",
        "\n",
        "y_scores_rf = y_probas_rf[:,1]  # Probabilidade da classe positiva (5)\n",
        "tfp_rf, tvp_rf, thresholds_rf = roc_curve(y_train, y_scores_rf)"
      ],
      "metadata": {
        "id": "AJJptFcyZ3em"
      },
      "execution_count": null,
      "outputs": []
    },
    {
      "cell_type": "code",
      "source": [
        "# -------------- Plotando a comparação das curvas ROC -------------- #\n",
        "\n",
        "def plot_roc_curve(tfp_1, tvp_1, tfp_2, tvp_2, label_1, label_2):\n",
        "    plt.plot(tfp_1, tvp_1, linewidth=2, label=label_1)\n",
        "    plt.plot(tfp_2, tvp_2, 'r', linewidth=2, label=label_2)\n",
        "    plt.plot([0, 1], [0, 1], 'k--')\n",
        "    plt.legend()\n",
        "    plt.grid()\n",
        "    plt.xlabel('Taxa de Falsos Positivos (1 - especificidade)')\n",
        "    plt.ylabel('Taxa de Verdadeiros Positivos (sensibilidade)')\n",
        "\n",
        "plot_roc_curve(tfp, tvp, tfp_rf, tvp_rf, 'SGD', 'RandomForest')\n",
        "plt.show()"
      ],
      "metadata": {
        "id": "60sUAm-3aEB_"
      },
      "execution_count": null,
      "outputs": []
    },
    {
      "cell_type": "code",
      "source": [
        "# -------------- Avaliação com SVM (One vs Rest) -------------- #\n",
        "\n",
        "from sklearn.svm import SVC\n",
        "from sklearn.multiclass import OneVsRestClassifier\n",
        "\n",
        "svm_ovr_model = OneVsRestClassifier(SVC())\n",
        "svm_ovr_model.fit(X_train, y_train)"
      ],
      "metadata": {
        "id": "89ZngD5RaKL_"
      },
      "execution_count": null,
      "outputs": []
    },
    {
      "cell_type": "code",
      "source": [
        "# -------------- Previsão e avaliação -------------- #\n",
        "\n",
        "svm_ovr_model.predict([some_digit])"
      ],
      "metadata": {
        "id": "GSYwePH-aX7y"
      },
      "execution_count": null,
      "outputs": []
    },
    {
      "cell_type": "code",
      "source": [
        "# -------------- Classificação Multiclasse -------------- #\n",
        "\n",
        "model_sgd.fit(X_train, y_train)\n",
        "model_sgd.predict([some_digit])"
      ],
      "metadata": {
        "id": "bQLRmQh5aq4Z"
      },
      "execution_count": null,
      "outputs": []
    },
    {
      "cell_type": "code",
      "source": [
        "# -------------- Avaliação com Validação Cruzada -------------- #\n",
        "\n",
        "from sklearn.preprocessing import StandardScaler\n",
        "\n",
        "scaler = StandardScaler()\n",
        "X_train_scaled = scaler.fit_transform(X_train.astype(np.float64))"
      ],
      "metadata": {
        "id": "KxdeuXcsauma"
      },
      "execution_count": null,
      "outputs": []
    },
    {
      "cell_type": "code",
      "source": [
        "# -------------- Realizando a avaliação com o modelo SGD -------------- #\n",
        "\n",
        "cross_val_score(model_sgd, X_train_scaled, y_train, scoring='accuracy', cv=3, n_jobs=-1)"
      ],
      "metadata": {
        "id": "09WZe4gRa0pr"
      },
      "execution_count": null,
      "outputs": []
    },
    {
      "cell_type": "code",
      "source": [
        "# -------------- Previsões com validação cruzada -------------- #\n",
        "\n",
        "y_train_pred = cross_val_predict(model_sgd, X_train_scaled, y_train, cv=3, n_jobs=-1)"
      ],
      "metadata": {
        "id": "PK-kvYaWa8FQ"
      },
      "execution_count": null,
      "outputs": []
    },
    {
      "cell_type": "code",
      "source": [
        "# -------------- Exibindo a matriz de confusão -------------- #\n",
        "\n",
        "conf_mx = confusion_matrix(y_train, y_train_pred)\n",
        "plt.matshow(conf_mx, cmap=plt.cm.gray)\n",
        "plt.show()"
      ],
      "metadata": {
        "id": "Xx-gMtifbB64"
      },
      "execution_count": null,
      "outputs": []
    },
    {
      "cell_type": "markdown",
      "source": [
        "4. Pesquisa e uso/exemplo de uma das ferramentas em caso simples de validação sobre data-app: streamlit"
      ],
      "metadata": {
        "id": "2seoFMnwoiQ9"
      }
    },
    {
      "cell_type": "code",
      "source": [
        "https://gdp-pop-ml.streamlit.app/"
      ],
      "metadata": {
        "id": "NiQc3Hs_ox9s"
      },
      "execution_count": null,
      "outputs": []
    }
  ]
}